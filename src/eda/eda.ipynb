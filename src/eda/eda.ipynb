{
 "cells": [
  {
   "cell_type": "code",
   "execution_count": 12,
   "id": "74b98b2b",
   "metadata": {},
   "outputs": [],
   "source": [
    "import os\n",
    "import sys\n",
    "import random\n",
    "module_path = os.path.abspath(os.path.join('./../..'))\n",
    "if module_path not in sys.path:\n",
    "    sys.path.append(module_path)\n",
    "\n",
    "import numpy as np\n",
    "import pandas as pd\n",
    "from matplotlib import pyplot as plt\n",
    "\n",
    "from consts import DATASET_LABEL_TO_INDEX, DATASET_PATHS\n",
    "from src.preprocess.data_loading import get_data"
   ]
  },
  {
   "cell_type": "code",
   "execution_count": 2,
   "id": "37b3bbd2",
   "metadata": {},
   "outputs": [],
   "source": [
    "for dataset_name in DATASET_LABEL_TO_INDEX:\n",
    "    label_mapping = DATASET_LABEL_TO_INDEX[dataset_name]\n",
    "    X, y = get_data(DATASET_PATHS[dataset_name], \"clean_text\", label_mapping)"
   ]
  },
  {
   "cell_type": "code",
   "execution_count": 19,
   "id": "f6bc2241",
   "metadata": {},
   "outputs": [
    {
     "data": {
      "text/plain": [
       "{'Negative': 0, 'Positive': 1}"
      ]
     },
     "execution_count": 19,
     "metadata": {},
     "output_type": "execute_result"
    }
   ],
   "source": [
    "label_mapping"
   ]
  },
  {
   "cell_type": "code",
   "execution_count": 3,
   "id": "976a197b",
   "metadata": {},
   "outputs": [],
   "source": [
    "inverted_label_mapping = dict((value, key) for (key, value) in label_mapping.items())"
   ]
  },
  {
   "cell_type": "code",
   "execution_count": 4,
   "id": "cd93af82",
   "metadata": {},
   "outputs": [
    {
     "data": {
      "text/plain": [
       "{0: 'Negative', 1: 'Positive'}"
      ]
     },
     "execution_count": 4,
     "metadata": {},
     "output_type": "execute_result"
    }
   ],
   "source": [
    "inverted_label_mapping"
   ]
  },
  {
   "cell_type": "code",
   "execution_count": 5,
   "id": "81d6d25b",
   "metadata": {},
   "outputs": [
    {
     "data": {
      "text/plain": [
       "0        Negative\n",
       "1        Positive\n",
       "2        Positive\n",
       "3        Positive\n",
       "4        Positive\n",
       "           ...   \n",
       "24995    Negative\n",
       "24996    Positive\n",
       "24997    Negative\n",
       "24998    Negative\n",
       "24999    Negative\n",
       "Name: label, Length: 25000, dtype: object"
      ]
     },
     "execution_count": 5,
     "metadata": {},
     "output_type": "execute_result"
    }
   ],
   "source": [
    "label_df = pd.DataFrame(y, columns=['label'])['label'].apply(lambda x: inverted_label_mapping[x])\n",
    "label_df"
   ]
  },
  {
   "cell_type": "code",
   "execution_count": 7,
   "id": "f9503b94",
   "metadata": {},
   "outputs": [
    {
     "data": {
      "image/png": "[encoded data removed]",
      "text/plain": [
       "<Figure size 640x480 with 1 Axes>"
      ]
     },
     "metadata": {},
     "output_type": "display_data"
    }
   ],
   "source": [
    "label_df.value_counts().plot(kind='bar')\n",
    "plt.show()"
   ]
  },
  {
   "cell_type": "code",
   "execution_count": 8,
   "id": "5ad370cc",
   "metadata": {},
   "outputs": [
    {
     "data": {
      "text/plain": [
       "1049     this movie seems to have a lot of people sayin...\n",
       "9301     the national gallery of art showed the long th...\n",
       "5754     not for people without swift mind or without a...\n",
       "20331    an our gang comedy short br br the gang coerce...\n",
       "9901     it takes a very special kind of person to make...\n",
       "                               ...                        \n",
       "12630    yes this movie has kids going to space camp an...\n",
       "5370     the van is a simple teensploitation picture ma...\n",
       "6429     there s no denying the first azumi film was a ...\n",
       "3338     before i go on i have to admit to being a huge...\n",
       "17716    this movie could have been very good but comes...\n",
       "Name: clean_text, Length: 25000, dtype: object"
      ]
     },
     "execution_count": 8,
     "metadata": {},
     "output_type": "execute_result"
    }
   ],
   "source": [
    "X"
   ]
  },
  {
   "cell_type": "code",
   "execution_count": 13,
   "id": "e3d0cc0e",
   "metadata": {},
   "outputs": [],
   "source": []
  },
  {
   "cell_type": "code",
   "execution_count": 17,
   "id": "24741788",
   "metadata": {},
   "outputs": [
    {
     "data": {
      "text/plain": [
       "array([    1,     2,     3, ..., 24989, 24993, 24996], dtype=int64)"
      ]
     },
     "execution_count": 17,
     "metadata": {},
     "output_type": "execute_result"
    }
   ],
   "source": [
    "np.where(y == 1)[0]"
   ]
  },
  {
   "cell_type": "code",
   "execution_count": 45,
   "id": "b77aa39e",
   "metadata": {},
   "outputs": [],
   "source": [
    "lab_samples = dict((label, []) for label in inverted_label_mapping.values())\n",
    "n_samples = 2\n",
    "for label in inverted_label_mapping:\n",
    "    lab_samples[inverted_label_mapping[label]] = [X.values[index] for index in np.random.choice(np.where(y == label)[0], n_samples)]"
   ]
  },
  {
   "cell_type": "code",
   "execution_count": 46,
   "id": "cb300411",
   "metadata": {},
   "outputs": [
    {
     "data": {
      "text/plain": [
       "{'Negative': ['warning spoilers contained herein br br this is a semi autobiographical look at what might happen to madonna if she were ever to be stranded on a deserted island there s absolutely no challenge to madonna in this role and it shows she s just madonna playing madonna and she can t even get that right i know what you re saying you re saying how do you know this is what madonna is really like you ve never met her correct i haven t but we all remember truth or dare don t we i know kevin costner does br br you would think in the year 2002 that madonna might have learned something one way or the other from the crossover ladies that have also made their way across the silver screen for goodness sake hasn t madonna seen glitter mariah carey showed the film world how it is done mariah kicks madonna s trashy butt to the curb in beauty talent screen presence charisma characterization you name it all we see from this glimpse into madonna s world is she s the only one in it br br if there s one thing to be said for madonna it is that she s consistent when she was an mtv darling she set the world of women s fashion back 20 years now in film she has set women s roles in film and society back 20 years by glamourizing all the most hated horrible reprehensible odious qualities women have been reputed to have locked away inside them qualities they have been so desperately trying to prove they really don t possess br br here s the spoilers don t read any further if you don t want to know br br here s the one good thing i will say about this film and i really was impressed by it they didn t go for the hollywood ending madonna s character lives in the typical happy hollywood ending madonna s character would have died on the island and her long suffering oppressed whipped husband would have been free to finally settle down with a good decent woman a woman who would be the exact opposite of his deceased wife and they both live happily ever after but in this extremely depressing conclusion she is rescued and once more this poor victim of a husband is once again saddled with his demon of a wife and his life will once again become a living hell br br here endeth the spoilers',\n",
       "  'this movie certainly proves that also the good americans can do terribly good propaganda no questions being asked no comments being made on power abuse or police terror when james stewart solid and convincing as always solves all the stories from dillinger to 5th column more or less singlehandedly june allyson as his regular love interest holds up the family values and e j hoover is executive producer and children or non guilty bystanders are never harmed when the professionals execute not to speak of civil rights which are never broken or homes which are never intruded and if the fbi service would not be enough steward also gives his son s life for the country in ww ii perfectly made if you wouldn t know better'],\n",
       " 'Positive': ['the straight story is a multilevel exploration of the goodness and beauty of america at one level a slow walk through the heartland it s kind inhabitants and amber grain at another level about growing old and remembering what is important and actively forgetting what isn t david lynch gives us time in this movie and helps me to remember that so much can be said with silence a remarkable movie that will rest gently with me for some time to come',\n",
       "  'this one s a romp many trek fans don t rate this as high as the well known all time classic episodes because it lacks the deep meaning or undertone of those really great ones but this one is so well executed for what it is so successful as pure entertainment it always makes my personal list of the top half dozen episodes no matter what mood i m in several well known future movies westworld and tv shows the more bland fantasy island took their cue from the premise of this episode then of course the tng show revamped the concept with the holodeck technology beautifully filmed especially evident in the restored version and on dvd and directed it takes place in the nice park like setting of a planet which the enterprise has just arrived to it s odd that no animal life even insects seems to exist here how are flowers pollinated for example but things turn really odd when members of the landing party start seeing people from their past kirk has a people heavy past it turns out as well as figures from other well known fantasy stories sulu even finds an old style police revolver adding to his collection of swords no doubt br br by this point in the trek series halfway thru the first season the main characters had pretty much solidified into the old friends we d come to know over the many proceeding years here we get to really see them relax converse and work together to figure out this episode s puzzle the strong narrative is a mystery again of sorts and the audience is along for the ride as kirk friends seek to unravel a very bizarre series of events which have a decidedly amusing flavor to them it s almost whimsical following up on the carefree style established up on the starship as kirk was finally maneuvered into beaming down after showing definite signs of stress and fatigue the enterprise had it s suggested just completed a harrowing mission then dr mccoy is killed by a knight on horseback yes this is dr mccoy s final episode just kidding but it s no joke to the rest of the landing party at this point in the story mccoy really is dead for all intents and purposes and like the best trek episodes the 2nd half of this adventure escalates to a more frantic more desperate tempo of action and suspense this is all signaled by kirk s resolute response to sulu who voices his lack of understanding about any of these events just after mccoy s death kirk will get to the bottom of all this come what may br br but it doesn t get much easier for kirk what follows is probably the longest staged mano a mano fight for the series as kirk tussles with his nemesis from his academy days a struggle that seems to take place over half the planet yet this is counterbalanced by scenes of extraordinary tenderness with another of kirk s past acquaintances this episode runs the gamut of all human experience rather fitting in light of what we learn about the actual purpose of this weird planet it s gratifying that the script really does explain all of what s happened as opposed to some nonsensical approach which permeates many other fantasy sci fi series with similar plot lines unexplained appearances by persons who could not possibly be there and there actually is a subtext to the story that we humans need to work off our tensions and fatigue in a particular fashion or we just don t function in a normal natural way also note the appearance of the very cute yeoman barrows and the sudden absence of yeoman rand who did not return until the first trek movie in 79 i believe that after this episode even more trek fans couldn t wait for the next appearance of all their favorite characters but i leave this episode with a final perhaps tantalizing thought if mccoy was killed verified by spock how do we know it was our real mccoy who beamed back up to the ship perhaps this explains why this mccoy was still inspecting starships about a century later and getting along very well with data']}"
      ]
     },
     "execution_count": 46,
     "metadata": {},
     "output_type": "execute_result"
    }
   ],
   "source": [
    "lab_samples"
   ]
  },
  {
   "cell_type": "code",
   "execution_count": null,
   "id": "2481d69d",
   "metadata": {},
   "outputs": [],
   "source": []
  }
 ],
 "metadata": {
  "kernelspec": {
   "display_name": "Python 3 (ipykernel)",
   "language": "python",
   "name": "python3"
  },
  "language_info": {
   "codemirror_mode": {
    "name": "ipython",
    "version": 3
   },
   "file_extension": ".py",
   "mimetype": "text/x-python",
   "name": "python",
   "nbconvert_exporter": "python",
   "pygments_lexer": "ipython3",
   "version": "3.8.13"
  }
 },
 "nbformat": 4,
 "nbformat_minor": 5
}
